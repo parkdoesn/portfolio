{
 "cells": [
  {
   "cell_type": "code",
   "execution_count": 1,
   "metadata": {},
   "outputs": [],
   "source": [
    "import pandas as pd\n",
    "import numpy as np\n",
    "from numpy import inf\n",
    "from datetime import date,datetime, timedelta\n",
    "\n",
    "import os\n",
    "import requests\n",
    "from io import StringIO\n",
    "\n",
    "import sqlite3\n",
    "\n",
    "import warnings\n",
    "warnings.filterwarnings(action='ignore')\n",
    "pd.options.display.float_format = '{:.2f}'.format\n",
    "\n",
    "con = sqlite3.connect('/path/****.db')\n",
    "cursor = con.cursor()"
   ]
  },
  {
   "cell_type": "markdown",
   "metadata": {},
   "source": [
    "# 고객 행동 데이터 load"
   ]
  },
  {
   "cell_type": "code",
   "execution_count": 2,
   "metadata": {},
   "outputs": [],
   "source": [
    "df = pd.concat([\n",
    "    pd.read_csv('/path/0_인앱이벤트.csv')\n",
    "    ,pd.read_csv('/path/1_인앱이벤트.csv')\n",
    "])"
   ]
  },
  {
   "cell_type": "markdown",
   "metadata": {},
   "source": [
    "# appsflyer 데이터 load"
   ]
  },
  {
   "cell_type": "code",
   "execution_count": 3,
   "metadata": {},
   "outputs": [],
   "source": [
    "sql = \"\"\"\n",
    "SELECT\n",
    "`Advertising ID`\n",
    ",`Customer User ID`\n",
    ",`Media Source`\n",
    ",`Campaign`\n",
    ",`Site ID`\n",
    ",`Campaign ID`\n",
    ",`Channel`\n",
    ",`Adset`\n",
    ",`Adset ID`\n",
    ",`Ad`\n",
    ",`Ad ID`\n",
    ",`Match Type`\n",
    ",`Install Time`\n",
    ",`Platform`\n",
    "\n",
    "FROM ****\n",
    "\"\"\"\n",
    "\n",
    "cursor.execute(sql)\n",
    "columns = [description[0] for description in cursor.description]\n",
    "df_non_organic_installs = pd.DataFrame(cursor.fetchall(),columns=columns)\n",
    "\n",
    "sql = \"\"\"\n",
    "SELECT\n",
    "`Advertising ID`\n",
    ",`Customer User ID`\n",
    ",`Media Source`\n",
    ",`Campaign`\n",
    ",`Site ID`\n",
    ",`Campaign ID`\n",
    ",`Channel`\n",
    ",`Adset`\n",
    ",`Adset ID`\n",
    ",`Ad`\n",
    ",`Ad ID`\n",
    ",`Install Time`\n",
    ",`Platform`\n",
    "\n",
    "FROM ****\n",
    "\"\"\"\n",
    "\n",
    "cursor.execute(sql)\n",
    "columns = [description[0] for description in cursor.description]\n",
    "df_organic_installs = pd.DataFrame(cursor.fetchall(),columns=columns)"
   ]
  },
  {
   "cell_type": "code",
   "execution_count": 4,
   "metadata": {},
   "outputs": [
    {
     "name": "stdout",
     "output_type": "stream",
     "text": [
      "(282430, 14)\n"
     ]
    }
   ],
   "source": [
    "#### af 데이터 정리\n",
    "df_install = pd.concat([\n",
    "    df_non_organic_installs\n",
    "    ,df_organic_installs\n",
    "])\n",
    "\n",
    "df_install['Advertising ID'] = np.where(\n",
    "    df_install['Advertising ID'].notnull()\n",
    "    ,df_install['Advertising ID']\n",
    "    ,df_install['Customer User ID']\n",
    ")\n",
    "\n",
    "print(df_install.shape)\n",
    "df_install.rename(columns={'Advertising ID':'****'},inplace=True)\n",
    "df_install = df_install.drop_duplicates('****')\n",
    "df_install['Media Source'] = df_install['Media Source'].fillna('Organic')"
   ]
  },
  {
   "cell_type": "code",
   "execution_count": 6,
   "metadata": {},
   "outputs": [],
   "source": [
    "df_install_ = df_install[[\n",
    "    'uuid'\n",
    "    ,'Media Source'\n",
    "    ,'Campaign'\n",
    "    ,'Adset'\n",
    "    ,'Ad'\n",
    "]]"
   ]
  },
  {
   "cell_type": "markdown",
   "metadata": {},
   "source": [
    "# 이벤트 로그에 af media 속성 merge"
   ]
  },
  {
   "cell_type": "code",
   "execution_count": 7,
   "metadata": {},
   "outputs": [],
   "source": [
    "df_merge = pd.merge(\n",
    "    df\n",
    "    ,df_install_\n",
    "    ,'left'\n",
    "    ,on='****'\n",
    "    ,suffixes=('','_y')\n",
    ")"
   ]
  },
  {
   "cell_type": "code",
   "execution_count": 8,
   "metadata": {},
   "outputs": [
    {
     "name": "stdout",
     "output_type": "stream",
     "text": [
      "(3481705, 10)\n",
      "(3481705, 14)\n"
     ]
    }
   ],
   "source": [
    "print(df.shape)\n",
    "print(df_merge.shape)"
   ]
  },
  {
   "cell_type": "code",
   "execution_count": 9,
   "metadata": {},
   "outputs": [],
   "source": [
    "df_merge['Media Source'].fillna('NotInApps',inplace=True)"
   ]
  },
  {
   "cell_type": "markdown",
   "metadata": {},
   "source": [
    "# install dataframe 분리"
   ]
  },
  {
   "cell_type": "code",
   "execution_count": 11,
   "metadata": {},
   "outputs": [],
   "source": [
    "df_merge_ = df_merge.drop_duplicates('****id')"
   ]
  },
  {
   "cell_type": "code",
   "execution_count": 12,
   "metadata": {},
   "outputs": [],
   "source": [
    "df_merge_['type'] = 'install'\n",
    "df_merge_['created_at'] = df_merge_['user_created_at']"
   ]
  },
  {
   "cell_type": "code",
   "execution_count": 13,
   "metadata": {},
   "outputs": [
    {
     "data": {
      "text/plain": [
       "3751886"
      ]
     },
     "execution_count": 13,
     "metadata": {},
     "output_type": "execute_result"
    }
   ],
   "source": [
    "df_merge_.shape[0] + df_merge.shape[0]"
   ]
  },
  {
   "cell_type": "code",
   "execution_count": null,
   "metadata": {},
   "outputs": [],
   "source": [
    "# 인앱 이벤트 로그 dataframe 에는 install log가 없으므로, 분리한 isntall df를 concat 함"
   ]
  },
  {
   "cell_type": "code",
   "execution_count": 14,
   "metadata": {},
   "outputs": [],
   "source": [
    "df_merge__ = pd.concat([\n",
    "    df_merge\n",
    "    ,df_merge_\n",
    "])\n",
    "\n",
    "df_merge__['Media Source'].replace(\n",
    "    'restricted'\n",
    "    ,'Facebook Ads'\n",
    ",inplace=True)"
   ]
  },
  {
   "cell_type": "code",
   "execution_count": 15,
   "metadata": {},
   "outputs": [
    {
     "data": {
      "text/plain": [
       "(3751886, 14)"
      ]
     },
     "execution_count": 15,
     "metadata": {},
     "output_type": "execute_result"
    }
   ],
   "source": [
    "df_merge__.shape"
   ]
  },
  {
   "cell_type": "markdown",
   "metadata": {},
   "source": [
    "# 필요 컬럼 생성"
   ]
  },
  {
   "cell_type": "code",
   "execution_count": 16,
   "metadata": {},
   "outputs": [],
   "source": [
    "df_merge__['created_date'] = pd.to_datetime(df_merge__['****'].astype(str).str[:10])\n",
    "df_merge__['****_created_date'] = pd.to_datetime(df_merge__['****'].astype(str).str[:10])\n",
    "#### 가입 후 이벤트 발생 경과일 install to event\n",
    "df_merge__['i2e'] = (df_merge__['created_date'] - df_merge__['****']).dt.days\n",
    "df_merge__['DayofWeek'] = df_merge__['****'].dt.dayofweek\n",
    "df_merge__['i2e_by_7'] = np.where(\n",
    "    df_merge__['i2e']<=6\n",
    "    ,df_merge__['i2e']\n",
    "    ,(df_merge__['i2e']/7).astype(int)*7\n",
    ")\n",
    "\n",
    "df_merge__['week'] = (((pd.to_datetime('2022-08-20') - pd.to_datetime(df_merge__['****'].astype(str).str[:10])).astype(str).str[:-24].astype(int)/7)+0.9999).astype(int)\n",
    "df_merge__['week(date)'] = (pd.to_datetime('2022-08-13') - pd.to_timedelta(((df_merge__['week']-1)*7).astype(str)+' days'))\n",
    "\n",
    "df_merge__['event_week'] = (((pd.to_datetime('2022-08-20') - pd.to_datetime(df_merge__['****'].astype(str).str[:10])).astype(str).str[:-24].astype(int)/7)+0.9999).astype(int)\n",
    "df_merge__['event_week(date)'] = (pd.to_datetime('2022-08-13') - pd.to_timedelta(((df_merge__['event_week']-1)*7).astype(str)+' days'))\n",
    "\n",
    "df_merge__['****_created_hour'] = pd.to_datetime(df_merge__['****_created_at']).dt.hour"
   ]
  },
  {
   "cell_type": "markdown",
   "metadata": {},
   "source": [
    "# 구매 고객 data load"
   ]
  },
  {
   "cell_type": "code",
   "execution_count": 17,
   "metadata": {},
   "outputs": [],
   "source": [
    "df_buyer = pd.read_excel('/path/구매유저.xlsx')\n",
    "\n",
    "df_buyer = df_buyer[\n",
    "    (df_buyer['****'].notnull())\n",
    "][[\n",
    "    '상태'\n",
    "    ,'****'\n",
    "]].rename(columns={'****':'****_id','상태':'is_bought'})"
   ]
  },
  {
   "cell_type": "markdown",
   "metadata": {},
   "source": [
    "# 인앱 채팅 data load"
   ]
  },
  {
   "cell_type": "code",
   "execution_count": 18,
   "metadata": {},
   "outputs": [],
   "source": [
    "df_chat = pd.read_excel('/path/채팅 로그.xlsx',sheet_name='User data')\n",
    "df_chat_type = pd.read_excel('/path/채팅 로그(타입분류완료).xlsx')\n",
    "\n",
    "df_user_id = df_chat[[\n",
    "    'id'\n",
    "    ,'name'\n",
    "]]\n",
    "\n",
    "df_chat_type = pd.merge(\n",
    "    df_chat_type\n",
    "    ,df_user_id.rename(columns={'id':'personId'})\n",
    "    ,'left'\n",
    "    ,on='personId'\n",
    "    ,suffixes=('','_y')\n",
    ")"
   ]
  },
  {
   "cell_type": "code",
   "execution_count": 20,
   "metadata": {},
   "outputs": [],
   "source": [
    "df_merge__ = pd.merge(\n",
    "    df_merge__.sort_values(['****_id','****'])\n",
    "    ,df_buyer\n",
    "    ,'left'\n",
    "    ,on='****'\n",
    "    ,suffixes=('','_y')\n",
    ")"
   ]
  },
  {
   "cell_type": "code",
   "execution_count": 21,
   "metadata": {
    "scrolled": false
   },
   "outputs": [],
   "source": [
    "df_chat_type.type = df_chat_type.type.astype('category')\n",
    "sorter =[\n",
    "    '****\n",
    "    ,'****'\n",
    "    ,'****'\n",
    "    ,'****'\n",
    "    ,'****'\n",
    "    ,'****'\n",
    "    ...\n",
    "]\n",
    "\n",
    "df_chat_type.type.cat.set_categories(sorter,inplace=True)"
   ]
  },
  {
   "cell_type": "markdown",
   "metadata": {},
   "source": [
    "# 이벤트 로그에 채팅 유형 merge"
   ]
  },
  {
   "cell_type": "code",
   "execution_count": 22,
   "metadata": {},
   "outputs": [],
   "source": [
    "df_merge__ = pd.merge(\n",
    "    df_merge__\n",
    "    ,df_chat_type.sort_values(['type']).drop_duplicates('name')[[\n",
    "        'type'\n",
    "        ,'name'\n",
    "    ]].rename(columns={'name':'****'})\n",
    "    ,'left'\n",
    "    ,on='****'\n",
    "    ,suffixes=('','_y')\n",
    ")"
   ]
  },
  {
   "cell_type": "code",
   "execution_count": 24,
   "metadata": {},
   "outputs": [],
   "source": [
    "df_merge__['****'] = np.append(np.array([df_merge__['****'][0]]),df_merge__['****'].values[:-1]).tolist()"
   ]
  },
  {
   "cell_type": "code",
   "execution_count": 25,
   "metadata": {},
   "outputs": [],
   "source": [
    "# 가입 후 이벤트 발생 경과일 컬럼 추가\n",
    "df_merge__['ctct'] = (pd.to_datetime(df_merge__['****'])-pd.to_datetime(df_merge__['****'])).dt.total_seconds().fillna(-9999).astype(int)"
   ]
  },
  {
   "cell_type": "markdown",
   "metadata": {},
   "source": [
    "# 10분 (600s) 기준 세션 구분"
   ]
  },
  {
   "cell_type": "code",
   "execution_count": 27,
   "metadata": {},
   "outputs": [],
   "source": [
    "user_id_list = list(df_merge__['id'].values)\n",
    "ctct_list = list(df_merge__['ctct'].values)"
   ]
  },
  {
   "cell_type": "code",
   "execution_count": 28,
   "metadata": {},
   "outputs": [],
   "source": [
    "result = []\n",
    "first_id = 17\n",
    "num = 1\n",
    "\n",
    "for x,y in zip(user_id_list,ctct_list):\n",
    "    if x == first_id:\n",
    "        if y < 600:\n",
    "            result.append(num)\n",
    "            first_id = x\n",
    "        else:\n",
    "            num = num + 1\n",
    "            first_id = x\n",
    "            result.append(num)\n",
    "    else:\n",
    "        first_id = x\n",
    "        num = 1\n",
    "        result.append(num)"
   ]
  },
  {
   "cell_type": "code",
   "execution_count": 29,
   "metadata": {},
   "outputs": [],
   "source": [
    "df_merge__['session'] = result"
   ]
  },
  {
   "cell_type": "code",
   "execution_count": 30,
   "metadata": {},
   "outputs": [],
   "source": [
    "#### 데이터 처리 완료 ####"
   ]
  },
  {
   "cell_type": "markdown",
   "metadata": {},
   "source": [
    "# 가입 후 7일 내 세션 수 dataframe"
   ]
  },
  {
   "cell_type": "code",
   "execution_count": null,
   "metadata": {},
   "outputs": [],
   "source": [
    "df_session = df_merge__[\n",
    "    (df_merge__['i2e']>=0)\n",
    "    &(df_merge__['i2e']<=6)\n",
    "].pivot_table(\n",
    "    index=[\n",
    "        '****'\n",
    "        ,'****'\n",
    "        ,'****'\n",
    "        ,'****'\n",
    "    ]\n",
    "    ,values='session'\n",
    "    ,aggfunc='max'\n",
    ").reset_index().sort_values('session')"
   ]
  },
  {
   "cell_type": "markdown",
   "metadata": {},
   "source": [
    "# 가입 후 7일 내 특정 이벤트 발생 수 dataframe"
   ]
  },
  {
   "cell_type": "code",
   "execution_count": 380,
   "metadata": {},
   "outputs": [],
   "source": [
    "df_car_detail = df_merge__[\n",
    "    (df_merge__['i2e']>=0)\n",
    "    &(df_merge__['i2e']<=6)\n",
    "    &(df_merge__['type']=='****')\n",
    "].pivot_table(\n",
    "    index='****'\n",
    "    ,columns='type'\n",
    "    ,values='****'\n",
    "    ,aggfunc='count'\n",
    ").fillna(0).reset_index()#.sort_values('app_open')"
   ]
  },
  {
   "cell_type": "code",
   "execution_count": 382,
   "metadata": {},
   "outputs": [],
   "source": [
    "df_result = pd.merge(\n",
    "    df_session\n",
    "    ,df_car_detail\n",
    "    ,'left'\n",
    "    ,on='user_id'\n",
    "    ,suffixes=('','_y')\n",
    ")"
   ]
  },
  {
   "cell_type": "markdown",
   "metadata": {},
   "source": [
    "# 거래 완료 data merge"
   ]
  },
  {
   "cell_type": "code",
   "execution_count": 383,
   "metadata": {},
   "outputs": [],
   "source": [
    "df_result = pd.merge(\n",
    "    df_result\n",
    "    ,df_merge__[\n",
    "        (df_merge__['type']=='install')\n",
    "        &(df_merge__['is_bought']=='****')\n",
    "    ][['****','is_bought']]\n",
    "    ,'left'\n",
    "    ,on='****'\n",
    "    ,suffixes=('','_y')\n",
    ")"
   ]
  },
  {
   "cell_type": "code",
   "execution_count": 384,
   "metadata": {},
   "outputs": [
    {
     "data": {
      "text/plain": [
       "(60, 7)"
      ]
     },
     "execution_count": 384,
     "metadata": {},
     "output_type": "execute_result"
    }
   ],
   "source": [
    "df_result[\n",
    "    (df_result['is_bought'].notnull())\n",
    "].shape"
   ]
  },
  {
   "cell_type": "code",
   "execution_count": 385,
   "metadata": {},
   "outputs": [
    {
     "data": {
      "text/plain": [
       "(150177, 7)"
      ]
     },
     "execution_count": 385,
     "metadata": {},
     "output_type": "execute_result"
    }
   ],
   "source": [
    "df_result[\n",
    "    (df_result['****'].notnull())\n",
    "].shape"
   ]
  },
  {
   "cell_type": "code",
   "execution_count": 386,
   "metadata": {},
   "outputs": [],
   "source": [
    "df_result['****'].fillna(0,inplace=True)"
   ]
  },
  {
   "cell_type": "markdown",
   "metadata": {},
   "source": [
    "# 컬럼 추가"
   ]
  },
  {
   "cell_type": "code",
   "execution_count": 387,
   "metadata": {},
   "outputs": [],
   "source": [
    "df_result['is_bought_'] = np.where(\n",
    "    df_result['is_bought'] == '****'\n",
    "    ,True,False\n",
    ")"
   ]
  },
  {
   "cell_type": "code",
   "execution_count": 389,
   "metadata": {},
   "outputs": [],
   "source": [
    "df_result['more_than_10_sessions'] = np.where(\n",
    "    df_result['session']>=10,True,False\n",
    ")\n",
    "\n",
    "df_result['more_than_10_****'] = np.where(\n",
    "    df_result['****']>=10,True,False\n",
    ")"
   ]
  },
  {
   "cell_type": "markdown",
   "metadata": {},
   "source": [
    "# 엑셀 저장, 성과 보조 지표 개발 끝"
   ]
  },
  {
   "cell_type": "code",
   "execution_count": 393,
   "metadata": {},
   "outputs": [],
   "source": [
    "df_result[\n",
    "#    (df_result['more_than_10_sessions']==True)\n",
    "    (df_result['more_than_10_car_detail']==True)\n",
    "    &(\n",
    "        (df_result['Media Source']=='****')\n",
    "        |(df_result['Media Source']=='****')\n",
    "        |(df_result['Media Source']=='****')\n",
    "        |(df_result['Media Source']=='****')\n",
    "        |(df_result['Media Source']=='****')\n",
    "    )\n",
    "].pivot_table(\n",
    "    index=['Media Source']\n",
    "    ,values='****'\n",
    "    ,aggfunc='count'\n",
    ").reset_index().sort_values(['user_id'],ascending=False).to_excel('/path/*****.xlsx')"
   ]
  },
  {
   "cell_type": "code",
   "execution_count": null,
   "metadata": {},
   "outputs": [],
   "source": []
  },
  {
   "cell_type": "code",
   "execution_count": null,
   "metadata": {},
   "outputs": [],
   "source": []
  },
  {
   "cell_type": "code",
   "execution_count": null,
   "metadata": {},
   "outputs": [],
   "source": []
  },
  {
   "cell_type": "code",
   "execution_count": null,
   "metadata": {},
   "outputs": [],
   "source": []
  },
  {
   "cell_type": "markdown",
   "metadata": {},
   "source": [
    "# 시각화"
   ]
  },
  {
   "cell_type": "code",
   "execution_count": 254,
   "metadata": {},
   "outputs": [],
   "source": [
    "import numpy as np\n",
    "import matplotlib.pyplot as plt\n",
    "import matplotlib.lines as mlines\n",
    "import matplotlib.transforms as mtransforms\n",
    "\n",
    "X = df_result[\n",
    "    (df_result['is_bought_']==True)\n",
    "]['session'].values\n",
    "\n",
    "Y = df_result[\n",
    "    (df_result['is_bought_']==True)\n",
    "]['****'].values\n",
    "\n",
    "X_ = df_result['session']\n",
    "Y_ = df_result['****']"
   ]
  },
  {
   "cell_type": "code",
   "execution_count": 372,
   "metadata": {},
   "outputs": [
    {
     "data": {
      "image/png": "[encoded data removed]",
      "text/plain": [
       "<Figure size 720x576 with 1 Axes>"
      ]
     },
     "metadata": {
      "needs_background": "light"
     },
     "output_type": "display_data"
    }
   ],
   "source": [
    "plt.scatter(X, Y)\n",
    "plt.plot([-10, 70], [10, 10], 'k-', lw=1, color='red')\n",
    "plt.plot([10, 10], [-10, 300], 'k-', lw=1, color='red')\n",
    "plt.rcParams[\"figure.figsize\"] = (10,8)\n",
    "plt.xlabel('sessions')\n",
    "plt.ylabel('****')\n",
    "\n",
    "plt.text(30, 100, \"buy : 31, users : 1,058\", size=20, rotation=10.,\n",
    "#         ha=\"center\", va=\"center\",\n",
    "         bbox=dict(boxstyle=\"round\",\n",
    "                   ec=(1., 0.5, 0.5),\n",
    "                   fc=(1., 0.8, 0.8),\n",
    "                   )\n",
    "         )\n",
    "\n",
    "plt.text(-10, 100, \"buy : 16, users : 9,644\", size=20, rotation=10.,\n",
    "#         ha=\"center\", va=\"center\",\n",
    "         bbox=dict(boxstyle=\"round\",\n",
    "                   ec=(1., 0.5, 0.5),\n",
    "                   fc=(1., 0.8, 0.8),\n",
    "                   )\n",
    "         )\n",
    "\n",
    "plt.text(-10, -5, \"buy : 13, users : 259,335\", size=20, rotation=10.,\n",
    "#         ha=\"center\", va=\"center\",\n",
    "         bbox=dict(boxstyle=\"round\",\n",
    "                   ec=(1., 0.5, 0.5),\n",
    "                   fc=(1., 0.8, 0.8),\n",
    "                   )\n",
    "         )\n",
    "\n",
    "plt.text(30, -5, \"buy : 0, users : 144\", size=20, rotation=10.,\n",
    "#         ha=\"center\", va=\"center\",\n",
    "         bbox=dict(boxstyle=\"round\",\n",
    "                   ec=(1., 0.5, 0.5),\n",
    "                   fc=(1., 0.8, 0.8),\n",
    "                   )\n",
    "         )\n",
    "\n",
    "plt.show()"
   ]
  },
  {
   "cell_type": "code",
   "execution_count": 257,
   "metadata": {},
   "outputs": [
    {
     "data": {
      "image/png": "[encoded data removed]",
      "text/plain": [
       "<Figure size 432x288 with 1 Axes>"
      ]
     },
     "metadata": {
      "needs_background": "light"
     },
     "output_type": "display_data"
    },
    {
     "data": {
      "image/png": "[encoded data removed]",
      "text/plain": [
       "<Figure size 432x288 with 1 Axes>"
      ]
     },
     "metadata": {
      "needs_background": "light"
     },
     "output_type": "display_data"
    }
   ],
   "source": [
    "sns.scatterplot(x='session'\n",
    "                ,y='****'\n",
    "                ,hue='is_bought_'\n",
    "                ,style='is_bought_'\n",
    "                ,s=100\n",
    "                ,data=df_data[(df_data['is_bought_']==True)])\n",
    "plt.xlim([10, 200])\n",
    "plt.ylim([10, 200])\n",
    "plt.show()\n",
    "\n",
    "sns.scatterplot(x='session'\n",
    "                ,y='****'\n",
    "                ,hue='is_bought_'\n",
    "                ,style='is_bought_'\n",
    "                ,s=100\n",
    "                ,data=df_data[(df_data['is_bought_']==False)])\n",
    "plt.xlim([10, 200])\n",
    "plt.ylim([10, 200])\n",
    "plt.show()"
   ]
  },
  {
   "cell_type": "code",
   "execution_count": 57,
   "metadata": {},
   "outputs": [],
   "source": [
    "import matplotlib as mpl\n",
    "import matplotlib.pyplot as plt\n",
    "\n",
    "%matplotlib inline"
   ]
  },
  {
   "cell_type": "code",
   "execution_count": 174,
   "metadata": {},
   "outputs": [],
   "source": [
    "df_result_ = df_result[[\n",
    "    'is_bought_'\n",
    "    ,'session'\n",
    "    ,'****'\n",
    "]]"
   ]
  },
  {
   "cell_type": "code",
   "execution_count": 62,
   "metadata": {},
   "outputs": [
    {
     "data": {
      "image/png": "[encoded data removed]",
      "text/plain": [
       "<Figure size 432x288 with 1 Axes>"
      ]
     },
     "metadata": {
      "needs_background": "light"
     },
     "output_type": "display_data"
    }
   ],
   "source": [
    "plt.title(\"Scatter Plot\")\n",
    "plt.scatter(df_result_['session'],df_result_['car_detail'])\n",
    "plt.show()"
   ]
  }
 ],
 "metadata": {
  "kernelspec": {
   "display_name": "Python 3 (ipykernel)",
   "language": "python",
   "name": "python3"
  },
  "language_info": {
   "codemirror_mode": {
    "name": "ipython",
    "version": 3
   },
   "file_extension": ".py",
   "mimetype": "text/x-python",
   "name": "python",
   "nbconvert_exporter": "python",
   "pygments_lexer": "ipython3",
   "version": "3.10.9"
  }
 },
 "nbformat": 4,
 "nbformat_minor": 4
}
