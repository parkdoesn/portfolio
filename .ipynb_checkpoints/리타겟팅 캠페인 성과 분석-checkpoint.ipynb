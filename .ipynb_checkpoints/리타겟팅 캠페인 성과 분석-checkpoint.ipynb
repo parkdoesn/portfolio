{
 "cells": [
  {
   "cell_type": "code",
   "execution_count": 1,
   "metadata": {},
   "outputs": [],
   "source": [
    "import pandas as pd\n",
    "import numpy as np\n",
    "from datetime import date, datetime, timedelta\n",
    "import os\n",
    "from stat import S_ISREG, ST_CTIME, ST_MODE\n",
    "from time import sleep\n",
    "\n",
    "import sqlite3\n",
    "\n",
    "import warnings\n",
    "warnings.filterwarnings(action='ignore')\n",
    "\n",
    "con = sqlite3.connect('/path/****.db')\n",
    "cursor = con.cursor()"
   ]
  },
  {
   "cell_type": "code",
   "execution_count": null,
   "metadata": {},
   "outputs": [],
   "source": [
    "#### 데이터 분석 기간 정의\n",
    "\n",
    "today = date.today().strftime(\"%Y-%m-%d\")\n",
    "yesterday = (date.today() - timedelta(days=1)).strftime(\"%Y-%m-%d\")\n",
    "#friday_date = (date.today() + timedelta(days=friday[pd.to_datetime(date.today()).dayofweek])).strftime(\"%Y-%m-%d\")\n",
    "week_start_date = (date.today() - timedelta(days=days_for_week[pd.to_datetime(date.today()).dayofweek])).strftime(\"%Y-%m-%d\")"
   ]
  },
  {
   "cell_type": "markdown",
   "metadata": {},
   "source": [
    "# data load"
   ]
  },
  {
   "cell_type": "code",
   "execution_count": 45,
   "metadata": {},
   "outputs": [],
   "source": [
    "#### appsflyer retargeting data load\n",
    "cursor.execute('SELECT * FROM ****')\n",
    "columns = [description[0] for description in cursor.description]\n",
    "df_apps_conv = pd.DataFrame(cursor.fetchall(),columns=columns)\n",
    "\n",
    "#### user 속성 data load\n",
    "cursor.execute('SELECT * FROM ****')\n",
    "columns = [description[0] for description in cursor.description]\n",
    "df_user = pd.DataFrame(cursor.fetchall(),columns=columns)\n",
    "\n",
    "#### 기본 인앱 이벤트 로그 load\n",
    "cursor.execute(\n",
    "    \"\"\"\n",
    "    SELECT * \n",
    "    \n",
    "    FROM ****\n",
    "    WHERE `event_at` >= '{}'\n",
    "    \"\"\".format(week_start_date)\n",
    ")\n",
    "\n",
    "columns = [description[0] for description in cursor.description]\n",
    "df_event = pd.DataFrame(cursor.fetchall(),columns=columns)\n",
    "\n",
    "#### 리타겟팅 관련 추가 인앱 이벤트 로그 load\n",
    "cursor.execute(\n",
    "    \"\"\"\n",
    "    SELECT * \n",
    "    \n",
    "    FROM ****\n",
    "    WHERE `created_at` >= '{}'\n",
    "    \"\"\".format(week_start_date)\n",
    ")\n",
    "columns = [description[0] for description in cursor.description]\n",
    "df_method = pd.DataFrame(cursor.fetchall(),columns=columns)"
   ]
  },
  {
   "cell_type": "markdown",
   "metadata": {},
   "source": [
    "# data 전처리"
   ]
  },
  {
   "cell_type": "code",
   "execution_count": 48,
   "metadata": {},
   "outputs": [],
   "source": [
    "#### event log 데이터 전처리\n",
    "df_event['event_type'] = np.where(\n",
    "    (df_event['event_type']=='****')\n",
    "    ,'is_s***'\n",
    "    ,np.where(\n",
    "        (df_event['event_type']=='z****')\n",
    "        ,'is_z***',df_event['event_type']\n",
    "    )\n",
    ")\n",
    "\n",
    "df_event_ = df_event.rename(\n",
    "    columns={\n",
    "        'event_at':'created_at'\n",
    "        ,'event_type':'type'\n",
    "    }\n",
    ")\n",
    "\n",
    "df_method['type'] = np.where(\n",
    "    (df_method['type']=='r****')\n",
    "    |(df_method['type']=='s****')\n",
    "    ,'is_m***',df_method['type']\n",
    ")\n",
    "\n",
    "df_method_ = df_method[\n",
    "    (df_method['type']=='is_m****')\n",
    "][[\n",
    "    'car_id'\n",
    "    ,'user_id'\n",
    "    ,'created_at'\n",
    "    ,'type'\n",
    "]]"
   ]
  },
  {
   "cell_type": "code",
   "execution_count": 49,
   "metadata": {},
   "outputs": [],
   "source": [
    "df_event_concat = pd.concat([\n",
    "    df_event_\n",
    "    ,df_method_\n",
    "])"
   ]
  },
  {
   "cell_type": "markdown",
   "metadata": {},
   "source": [
    "# data 전처리, appsflyer raw data"
   ]
  },
  {
   "cell_type": "code",
   "execution_count": 50,
   "metadata": {},
   "outputs": [],
   "source": [
    "#### appsflyer raw data 전처리\n",
    "df_apps_conv['Attributed Touch Time'] = np.where(\n",
    "    df_apps_conv['Media Source']=='restricted'\n",
    "    ,df_apps_conv['Install Time']\n",
    "    ,df_apps_conv['Attributed Touch Time']\n",
    ")\n",
    "\n",
    "df_apps_conv = df_apps_conv[\n",
    "    (df_apps_conv['Advertising ID']!='00000000-0000-0000-0000-000000000000')\n",
    "]\n",
    "\n",
    "df_apps_conv['Match Type'] = df_apps_conv['Match Type'].fillna('null')\n",
    "\n",
    "df_apps_conv['Install Date'] = pd.to_datetime(df_apps_conv['Install Time'].astype(str).str[:10])\n",
    "df_apps_conv['Install Hour'] = pd.to_datetime(df_apps_conv['Install Time'].astype(str).str[:14]+'00:00')\n",
    "df_apps_conv['Install Min'] = pd.to_datetime(df_apps_conv['Install Time'].astype(str).str[:17]+'00')\n",
    "\n",
    "df_apps_conv['Attributed Touch Date'] = pd.to_datetime(df_apps_conv['Attributed Touch Time'].fillna('2022-12-31').astype(str).str[:10])\n",
    "df_apps_conv['Attributed Touch Hour'] = pd.to_datetime(df_apps_conv['Attributed Touch Time'].fillna('2022-12-31 23:59:').astype(str).str[:14]+'00:00')\n",
    "df_apps_conv['Attributed Touch Min'] = pd.to_datetime(df_apps_conv['Attributed Touch Time'].fillna('2022-12-31 23:59:').astype(str).str[:17]+'00')"
   ]
  },
  {
   "cell_type": "code",
   "execution_count": 7,
   "metadata": {},
   "outputs": [],
   "source": []
  },
  {
   "cell_type": "code",
   "execution_count": 52,
   "metadata": {},
   "outputs": [],
   "source": [
    "#### appsflyer raw data slice\n",
    "df_apps_conv_ = df_apps_conv[[\n",
    "    'Media Source'\n",
    "    ,'Campaign'\n",
    "    ,'Adset'\n",
    "    ,'Ad'\n",
    "    ,'Attributed Touch Time'\n",
    "    ,'Install Time'\n",
    "    ,'Event Name'\n",
    "    ,'Advertising ID'\n",
    "    ,'Install Date'\n",
    "    ,'Install Hour'    \n",
    "    ,'Install Min'\n",
    "    ,'Attributed Touch Date'    \n",
    "    ,'Attributed Touch Hour'\n",
    "    ,'Attributed Touch Min'\n",
    "    ,'Platform'\n",
    "]]"
   ]
  },
  {
   "cell_type": "markdown",
   "metadata": {},
   "source": [
    "# data 전처리, 리타겟팅 캠페인이 기여한 raw data 선별"
   ]
  },
  {
   "cell_type": "code",
   "execution_count": 74,
   "metadata": {},
   "outputs": [
    {
     "name": "stdout",
     "output_type": "stream",
     "text": [
      "(444551, 15)\n"
     ]
    }
   ],
   "source": [
    "#### 유효한 raw data 선별\n",
    "\n",
    "df_apps_conv__ = df_apps_conv_[\n",
    "    (df_apps_conv_['Advertising ID'].notnull())\n",
    "    &(df_apps_conv_['Event Name']=='re-engagement')\n",
    "    #### 광고 touch 시간과 앱 오픈 시간대가 같은 raw data만 설별\n",
    "    #### appsflyer retargeting_conversion raw data의 Install Hour는 앱 오픈 Hour를 의미\n",
    "    &(df_apps_conv_['Attributed Touch Hour']==df_apps_conv_['Install Hour'])   \n",
    "].drop_duplicates(['Attributed Touch Min','Advertising ID'])\n",
    "\n",
    "print(df_apps_conv__.shape)"
   ]
  },
  {
   "cell_type": "code",
   "execution_count": 13,
   "metadata": {},
   "outputs": [
    {
     "data": {
      "text/plain": [
       "(370776, 15)"
      ]
     },
     "execution_count": 13,
     "metadata": {},
     "output_type": "execute_result"
    }
   ],
   "source": [
    "df_apps_conv__.drop_duplicates(['Install Date','Advertising ID']).shape"
   ]
  },
  {
   "cell_type": "code",
   "execution_count": 14,
   "metadata": {},
   "outputs": [],
   "source": [
    "#### 인앱 이벤트, user 속성 merge\n",
    "#### 리타겟팅 캠페인에 의해 앱 오픈한 로그에\n",
    "\n",
    "df_user['uu**'] = np.where(\n",
    "    df_user['uu**'].isnull()\n",
    "    ,df_user['user**']\n",
    "    ,df_user['uu**']\n",
    ")\n",
    "\n",
    "df_car_event_ = pd.merge(\n",
    "    df_event_concat\n",
    "    ,df_user[['user_id','uuid','device_type']]\n",
    "    ,'left'\n",
    "    ,on='user_id'\n",
    "    ,suffixes=('','_y')\n",
    ")"
   ]
  },
  {
   "cell_type": "code",
   "execution_count": 15,
   "metadata": {},
   "outputs": [
    {
     "name": "stdout",
     "output_type": "stream",
     "text": [
      "(2091052, 20)\n"
     ]
    }
   ],
   "source": [
    "df_test = pd.merge(\n",
    "    df_apps_conv__.rename(columns={'Advertising ID':'uuid'})\n",
    "    ,df_car_event_\n",
    "    ,'left'\n",
    "    ,on='uuid'\n",
    "    ,suffixes=('','_y')\n",
    ")\n",
    "\n",
    "print(df_test.shape)"
   ]
  },
  {
   "cell_type": "code",
   "execution_count": 16,
   "metadata": {},
   "outputs": [],
   "source": [
    "#### 리타겟팅 캠페인 touch 후\n",
    "#### 인앱 이벤트 경과 시간 추가\n",
    "\n",
    "df_test['a2c_sec'] = (pd.to_datetime(df_test['created_at']) - pd.to_datetime(df_test['Attributed Touch Time'])).dt.total_seconds().fillna(-9999).astype(int)\n",
    "df_test['a2c_min'] = (df_test['a2c_sec'] / 60).fillna(-1).astype(int)\n",
    "df_test['a2c_hour'] = (df_test['a2c_min'] / 60).fillna(-1).astype(int)"
   ]
  },
  {
   "cell_type": "code",
   "execution_count": null,
   "metadata": {},
   "outputs": [],
   "source": []
  },
  {
   "cell_type": "code",
   "execution_count": 17,
   "metadata": {},
   "outputs": [],
   "source": [
    "df_test['is_m****'] = np.where(\n",
    "    (df_test['type']=='is_m****')\n",
    "    ,True,False\n",
    ")\n",
    "\n",
    "df_test['columns'] = 'all'\n",
    "\n",
    "df_test['is_running_media'] = np.where(\n",
    "    (\n",
    "        (df_test['Media Source']=='G***')\n",
    "        |(df_test['Media Source']=='go***')\n",
    "        |(df_test['Media Source']=='re***')\n",
    "        |(df_test['Media Source']=='Fac***')\n",
    "        |(df_test['Media Source']=='K****')\n",
    "    ),True,False\n",
    ")"
   ]
  },
  {
   "cell_type": "code",
   "execution_count": 18,
   "metadata": {},
   "outputs": [],
   "source": [
    "df_test_drop_type = df_test[\n",
    "    (df_test['a2c_sec']>=0)\n",
    "].sort_values(['a2c_sec']).drop_duplicates(['car_id','type'])"
   ]
  },
  {
   "cell_type": "markdown",
   "metadata": {},
   "source": [
    "# data 전처리, 리타겟팅 캠페인에 영향을 받고 발생한 전환 이벤트 count"
   ]
  },
  {
   "cell_type": "code",
   "execution_count": null,
   "metadata": {},
   "outputs": [],
   "source": [
    "#### 리타겟팅 캠페인에 의해 같은 시간대 앱 오픈 후 ~ 24시간 내 (86400s)\n",
    "#### 몇 명이 아래 6가지 전환 됐는지 리포팅\n",
    "#### 1. 앱 오픈\n",
    "#### 2. 차량 생성\n",
    "#### 3. 시세 조회 완료\n",
    "#### 4. 견적요청 배너 클릭\n",
    "#### 5. a type 견적요청 전환\n",
    "#### 6. b type 견적요청 전환"
   ]
  },
  {
   "cell_type": "code",
   "execution_count": 20,
   "metadata": {},
   "outputs": [],
   "source": [
    "df_open_raw = df_apps_conv__[\n",
    "    (df_apps_conv__['Install Date']>=week_start_date)\n",
    "    &(df_apps_conv__['Install Date']<=yesterday)\n",
    "].drop_duplicates(['Install Date','Advertising ID'])[[\n",
    "    'Media Source'\n",
    "    ,'Campaign'\n",
    "    ,'Adset'\n",
    "    ,'Ad'\n",
    "#    ,'type'\n",
    "    ,'Install Date'\n",
    "]]"
   ]
  },
  {
   "cell_type": "code",
   "execution_count": 21,
   "metadata": {},
   "outputs": [],
   "source": [
    "df_open_raw['type'] = '1_open'"
   ]
  },
  {
   "cell_type": "markdown",
   "metadata": {},
   "source": [
    "# data 전처리, 전환 이벤트 funnel에 맞게 이름 수정"
   ]
  },
  {
   "cell_type": "code",
   "execution_count": 22,
   "metadata": {},
   "outputs": [],
   "source": [
    "#### type 이름 수정\n",
    "\n",
    "df_test_drop_type['type'] = df_test_drop_type['type'].replace(\n",
    "    list(df_test_drop_type['type'].value_counts().index)\n",
    "    ,['2_car_c****',\n",
    "     '3_price_s****',\n",
    "     '4_is_m****',\n",
    "     '5_is_s****',\n",
    "     '6_is_z****',]\n",
    ")"
   ]
  },
  {
   "cell_type": "code",
   "execution_count": null,
   "metadata": {},
   "outputs": [],
   "source": []
  },
  {
   "cell_type": "code",
   "execution_count": 23,
   "metadata": {},
   "outputs": [],
   "source": [
    "#### 2,3,4 type window는 24시간\n",
    "\n",
    "df_type = df_test_drop_type[\n",
    "    #### 앱 오픈 후 24시간 내 전환 된 이벤트 필터링\n",
    "    (df_test_drop_type['a2c_sec']<=86400)\n",
    "    &(df_test_drop_type['Install Date']>=week_start_date)\n",
    "    &(df_test_drop_type['Install Date']<=yesterday)    \n",
    "    &(df_test_drop_type['type']!='5_is_s***')\n",
    "    &(df_test_drop_type['type']!='6_is_z***')\n",
    "][[\n",
    "    'Media Source'\n",
    "    ,'Campaign'\n",
    "    ,'Adset'\n",
    "    ,'Ad'\n",
    "    ,'type'\n",
    "    ,'Install Date'\n",
    "]]"
   ]
  },
  {
   "cell_type": "code",
   "execution_count": 24,
   "metadata": {},
   "outputs": [],
   "source": [
    "#### 5,6 type window는 168시간\n",
    "\n",
    "df_type_ = df_test_drop_type[\n",
    "    ### 7일 내 전환 된 이벤트 필터링\n",
    "    (df_test_drop_type['a2c_sec']<=86400*7)\n",
    "    &(df_test_drop_type['Install Date']>=week_start_date)\n",
    "    &(df_test_drop_type['Install Date']<=yesterday)    \n",
    "    &((df_test_drop_type['type']=='5_is_s***')\n",
    "    |(df_test_drop_type['type']=='6_is_z***'))\n",
    "][[\n",
    "    'Media Source'\n",
    "    ,'Campaign'\n",
    "    ,'Adset'\n",
    "    ,'Ad'\n",
    "    ,'type'\n",
    "    ,'Install Date'\n",
    "]]"
   ]
  },
  {
   "cell_type": "markdown",
   "metadata": {},
   "source": [
    "# data 전처리 완료"
   ]
  },
  {
   "cell_type": "code",
   "execution_count": 25,
   "metadata": {},
   "outputs": [],
   "source": [
    "#### merge\n",
    "\n",
    "df_result_raw = pd.concat([\n",
    "    df_open_raw\n",
    "    ,df_type\n",
    "    ,df_type_\n",
    "])\n",
    "\n",
    "df_result_raw['num'] = 1"
   ]
  },
  {
   "cell_type": "code",
   "execution_count": 26,
   "metadata": {},
   "outputs": [],
   "source": []
  },
  {
   "cell_type": "code",
   "execution_count": null,
   "metadata": {},
   "outputs": [],
   "source": []
  },
  {
   "cell_type": "markdown",
   "metadata": {},
   "source": [
    "# 매체별, 캠페인 별, 광고 그룹 별, 광고 소재 별\n",
    "# 전환 이벤트 수 count"
   ]
  },
  {
   "cell_type": "code",
   "execution_count": 27,
   "metadata": {},
   "outputs": [],
   "source": [
    "df_result_by_all_media = df_result_raw.pivot_table(\n",
    "    columns='Install Date'\n",
    "    ,values='num'\n",
    "    ,index=['Media Source','type']\n",
    "    ,aggfunc='count'\n",
    ").fillna(0).reset_index()"
   ]
  },
  {
   "cell_type": "code",
   "execution_count": 29,
   "metadata": {},
   "outputs": [],
   "source": [
    "df_result_by_campaign = df_result_raw.pivot_table(\n",
    "    columns='Install Date'\n",
    "    ,values='num'\n",
    "    ,index=['Media Source','Campaign','type']\n",
    "    ,aggfunc='count'\n",
    ").fillna(0).reset_index()"
   ]
  },
  {
   "cell_type": "code",
   "execution_count": 30,
   "metadata": {},
   "outputs": [],
   "source": [
    "df_result_by_adset = df_result_raw.pivot_table(\n",
    "    columns='Install Date'\n",
    "    ,values='num'\n",
    "    ,index=['Media Source','Campaign','Adset','type']\n",
    "    ,aggfunc='count'\n",
    ").fillna(0).reset_index()"
   ]
  },
  {
   "cell_type": "code",
   "execution_count": 31,
   "metadata": {},
   "outputs": [],
   "source": [
    "df_result_by_ad = df_result_raw.pivot_table(\n",
    "    columns='Install Date'\n",
    "    ,values='num'\n",
    "    ,index=['Media Source','Campaign','Adset','Ad','type']\n",
    "    ,aggfunc='count'\n",
    ").fillna(0).reset_index()"
   ]
  },
  {
   "cell_type": "code",
   "execution_count": 32,
   "metadata": {},
   "outputs": [],
   "source": [
    "df_result_media = df_result_raw[\n",
    "    (df_result_raw['Media Source']=='G**')\n",
    "    |(df_result_raw['Media Source']=='go****')\n",
    "    |(df_result_raw['Media Source']=='re****')\n",
    "    |(df_result_raw['Media Source']=='Ka****')    \n",
    "].pivot_table(\n",
    "    columns=['Media Source','type']\n",
    "    ,values='num'\n",
    "    ,index='Install Date'\n",
    "    ,aggfunc='count'\n",
    ").fillna(0).reset_index()"
   ]
  },
  {
   "cell_type": "code",
   "execution_count": 33,
   "metadata": {},
   "outputs": [],
   "source": [
    "df_result_type = df_result_raw[\n",
    "    (df_result_raw['Media Source']=='G**')\n",
    "    |(df_result_raw['Media Source']=='go****')\n",
    "    |(df_result_raw['Media Source']=='re****')\n",
    "    |(df_result_raw['Media Source']=='Ka***')    \n",
    "].pivot_table(\n",
    "    columns='type'\n",
    "    ,values='num'\n",
    "    ,index='Install Date'\n",
    "    ,aggfunc='count'\n",
    ").fillna(0).reset_index()"
   ]
  },
  {
   "cell_type": "code",
   "execution_count": null,
   "metadata": {},
   "outputs": [],
   "source": []
  },
  {
   "cell_type": "markdown",
   "metadata": {},
   "source": [
    "# 팀 내 성과 공유"
   ]
  },
  {
   "cell_type": "code",
   "execution_count": 37,
   "metadata": {},
   "outputs": [],
   "source": [
    "import gspread\n",
    "import gspread_dataframe as gd\n",
    "from oauth2client.service_account import ServiceAccountCredentials\n",
    "\n",
    "scope = [\"https://spreadsheets.google.com/feeds\", 'https://www.googleapis.com/auth/spreadsheets',\n",
    "         \"https://www.googleapis.com/auth/drive.file\", \"https://www.googleapis.com/auth/drive\"]\n",
    "credentials = ServiceAccountCredentials.from_json_keyfile_name('/path/****.json', scope)\n",
    "gc = gspread.authorize(credentials)"
   ]
  },
  {
   "cell_type": "code",
   "execution_count": 38,
   "metadata": {},
   "outputs": [],
   "source": [
    "sh = gc.open('****')\n",
    "\n",
    "for sheet in sh.worksheets()[1:]:\n",
    "    sh.del_worksheet(sheet)"
   ]
  },
  {
   "cell_type": "code",
   "execution_count": 39,
   "metadata": {},
   "outputs": [],
   "source": [
    "ws = \"%s_gfk_total_event\"%datetime.now().strftime(\"%y%m%d\")\n",
    "worksheet = sh.add_worksheet(\n",
    "    title=ws,\n",
    "    rows=\"1000\",\n",
    "    cols=\"100\"\n",
    ")\n",
    "\n",
    "worksheet = gc.open(\"****\").worksheet(ws)\n",
    "gd.set_with_dataframe(worksheet, df_result_type)\n",
    "\n",
    "sleep(1)\n",
    "ws = \"%s_event_by_media\"%datetime.now().strftime(\"%y%m%d\")\n",
    "worksheet = sh.add_worksheet(\n",
    "    title=ws,\n",
    "    rows=\"1000\",\n",
    "    cols=\"100\"\n",
    ")\n",
    "\n",
    "worksheet = gc.open(\"****\").worksheet(ws)\n",
    "gd.set_with_dataframe(worksheet, df_result_media)\n",
    "\n",
    "sleep(1)\n",
    "ws = \"%s_event_by_media_sorted\"%datetime.now().strftime(\"%y%m%d\")\n",
    "worksheet = sh.add_worksheet(\n",
    "    title=ws,\n",
    "    rows=\"1000\",\n",
    "    cols=\"100\"\n",
    ")\n",
    "\n",
    "worksheet = gc.open(\"****\").worksheet(ws)\n",
    "gd.set_with_dataframe(\n",
    "    worksheet\n",
    "    ,df_result_media[\n",
    "        sorted(\n",
    "            df_result_media.reset_index().columns[1:]\n",
    "            ,key=lambda element: (element[1])\n",
    "        )\n",
    "    ]\n",
    ")\n",
    "\n",
    "sleep(1)\n",
    "ws = \"%s_all_media\"%datetime.now().strftime(\"%y%m%d\")\n",
    "worksheet = sh.add_worksheet(\n",
    "    title=ws,\n",
    "    rows=\"1000\",\n",
    "    cols=\"100\"\n",
    ")\n",
    "\n",
    "worksheet = gc.open(\"****\").worksheet(ws)\n",
    "gd.set_with_dataframe(worksheet, df_result_by_all_media)\n",
    "\n",
    "sleep(1)\n",
    "ws = \"%s_all_campaign\"%datetime.now().strftime(\"%y%m%d\")\n",
    "worksheet = sh.add_worksheet(\n",
    "    title=ws,\n",
    "    rows=\"1000\",\n",
    "    cols=\"100\"\n",
    ")\n",
    "\n",
    "worksheet = gc.open(\"****\").worksheet(ws)\n",
    "gd.set_with_dataframe(worksheet, df_result_by_campaign)\n",
    "\n",
    "sleep(1)\n",
    "ws = \"%s_all_adset\"%datetime.now().strftime(\"%y%m%d\")\n",
    "worksheet = sh.add_worksheet(\n",
    "    title=ws,\n",
    "    rows=\"1000\",\n",
    "    cols=\"100\"\n",
    ")\n",
    "\n",
    "worksheet = gc.open(\"****\").worksheet(ws)\n",
    "gd.set_with_dataframe(worksheet, df_result_by_adset.sort_values(['Media Source','Campaign','Adset','type']))\n",
    "\n",
    "sleep(1)\n",
    "ws = \"%s_all_ad\"%datetime.now().strftime(\"%y%m%d\")\n",
    "worksheet = sh.add_worksheet(\n",
    "    title=ws,\n",
    "    rows=\"1000\",\n",
    "    cols=\"100\"\n",
    ")\n",
    "\n",
    "worksheet = gc.open(\"****\").worksheet(ws)\n",
    "gd.set_with_dataframe(worksheet, df_result_by_ad.sort_values(['Media Source','Campaign','Adset','Ad','type']))\n"
   ]
  }
 ],
 "metadata": {
  "kernelspec": {
   "display_name": "Python 3 (ipykernel)",
   "language": "python",
   "name": "python3"
  },
  "language_info": {
   "codemirror_mode": {
    "name": "ipython",
    "version": 3
   },
   "file_extension": ".py",
   "mimetype": "text/x-python",
   "name": "python",
   "nbconvert_exporter": "python",
   "pygments_lexer": "ipython3",
   "version": "3.10.9"
  }
 },
 "nbformat": 4,
 "nbformat_minor": 4
}
