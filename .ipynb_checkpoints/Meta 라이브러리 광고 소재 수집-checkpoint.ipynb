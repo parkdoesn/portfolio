{
 "cells": [
  {
   "cell_type": "code",
   "execution_count": 1,
   "id": "0bf7037f",
   "metadata": {},
   "outputs": [],
   "source": [
    "import pandas as pd\n",
    "import numpy as np\n",
    "\n",
    "from selenium import webdriver\n",
    "from bs4 import BeautifulSoup\n",
    "\n",
    "from time import sleep\n",
    "import re\n",
    "from urllib import parse\n",
    "\n",
    "from urllib import parse\n",
    "import requests"
   ]
  },
  {
   "cell_type": "code",
   "execution_count": 2,
   "id": "68df84a6",
   "metadata": {},
   "outputs": [
    {
     "name": "stderr",
     "output_type": "stream",
     "text": [
      "/var/folders/l0/wk6fmr157t53g451dtbdr96w0000gn/T/ipykernel_1923/1697781693.py:1: DeprecationWarning: executable_path has been deprecated, please pass in a Service object\n",
      "  driver = webdriver.Chrome('/Users/jiwoo/Downloads/chromedriver_mac64/chromedriver')\n"
     ]
    }
   ],
   "source": [
    "driver = webdriver.Chrome('/path/chromedriver')"
   ]
  },
  {
   "cell_type": "code",
   "execution_count": 3,
   "id": "b0f3d01a",
   "metadata": {},
   "outputs": [],
   "source": [
    "url = 'url'"
   ]
  },
  {
   "cell_type": "code",
   "execution_count": 4,
   "id": "a875c2b7",
   "metadata": {},
   "outputs": [],
   "source": [
    "driver.get(url)"
   ]
  },
  {
   "cell_type": "code",
   "execution_count": 5,
   "id": "d5e1c697",
   "metadata": {},
   "outputs": [],
   "source": [
    "html_key = driver.page_source\n",
    "soup = BeautifulSoup(html_key,'html.parser')"
   ]
  },
  {
   "cell_type": "code",
   "execution_count": null,
   "id": "f89b70f1",
   "metadata": {},
   "outputs": [],
   "source": []
  },
  {
   "cell_type": "code",
   "execution_count": 122,
   "id": "8126004e",
   "metadata": {},
   "outputs": [],
   "source": [
    "c = soup.find_all('div', class_='****')\n",
    "#### 140 번 째 사진 없음\n",
    "c.remove(c[140])"
   ]
  },
  {
   "cell_type": "code",
   "execution_count": 123,
   "id": "bf9af576",
   "metadata": {},
   "outputs": [
    {
     "name": "stdout",
     "output_type": "stream",
     "text": [
      "1https://sc\n",
      "2https://sc\n",
      "3https://sc\n",
      "4https://sc\n",
      "c5https://sconten\n",
      "6https://sc\n",
      "7https://sc\n",
      "8https://sc\n",
      "9https://sc\n",
      "c10https://sconten\n",
      "c11https://sconten\n",
      "12https://sc\n",
      "13https://sc\n",
      "14https://sc\n",
      "15https://sc\n",
      "16https://sc\n",
      "17https://sc\n",
      "18https://sc\n",
      "19https://sc\n",
      "20https://sc\n",
      "21https://sc\n",
      "22https://sc\n",
      "23https://sc\n",
      "24https://sc\n",
      "25https://sc\n",
      "26https://sc\n",
      "27https://sc\n",
      "28https://sc\n",
      "29https://sc\n",
      "30https://sc\n",
      "31https://sc\n",
      "32https://sc\n",
      "33https://sc\n",
      "34https://sc\n",
      "35https://sc\n",
      "36https://sc\n",
      "37https://sc\n",
      "38https://sc\n",
      "39https://sc\n",
      "40https://sc\n",
      "41https://sc\n",
      "42https://sc\n",
      "43https://sc\n",
      "44https://sc\n",
      "45https://sc\n",
      "46https://sc\n",
      "47https://sc\n",
      "48https://sc\n",
      "49https://sc\n",
      "50https://sc\n",
      "51https://sc\n",
      "52https://sc\n",
      "53https://sc\n",
      "54https://sc\n",
      "55https://sc\n",
      "56https://sc\n",
      "57https://sc\n",
      "58https://sc\n",
      "59https://sc\n",
      "60https://sc\n",
      "61https://sc\n",
      "62https://sc\n",
      "63https://sc\n",
      "64https://sc\n",
      "65https://sc\n",
      "66https://sc\n",
      "67https://sc\n",
      "68https://sc\n",
      "69https://sc\n",
      "70https://sc\n",
      "71https://sc\n",
      "72https://sc\n",
      "73https://sc\n",
      "74https://sc\n",
      "75https://sc\n",
      "76https://sc\n",
      "77https://sc\n",
      "78https://sc\n",
      "79https://sc\n",
      "80https://sc\n",
      "81https://sc\n",
      "82https://sc\n",
      "83https://sc\n",
      "84https://sc\n",
      "85https://sc\n",
      "86https://sc\n",
      "87https://sc\n",
      "88https://sc\n",
      "89https://sc\n",
      "90https://sc\n",
      "91https://sc\n",
      "92https://sc\n",
      "93https://sc\n",
      "94https://sc\n",
      "95https://sc\n",
      "96https://sc\n",
      "97https://sc\n",
      "98https://sc\n",
      "99https://sc\n",
      "100https://sc\n",
      "101https://sc\n",
      "102https://sc\n",
      "103https://sc\n",
      "104https://sc\n",
      "105https://sc\n",
      "106https://sc\n",
      "107https://sc\n",
      "108https://sc\n",
      "109https://sc\n",
      "110https://sc\n",
      "111https://sc\n",
      "112https://sc\n",
      "113https://sc\n",
      "114https://sc\n",
      "115https://sc\n",
      "116https://sc\n",
      "117https://sc\n",
      "118https://sc\n",
      "119https://sc\n",
      "120https://sc\n",
      "121https://sc\n",
      "122https://sc\n",
      "123https://sc\n",
      "124https://sc\n",
      "125https://sc\n",
      "126https://sc\n",
      "127https://sc\n",
      "128https://sc\n",
      "129https://sc\n",
      "130https://sc\n",
      "131https://sc\n",
      "132https://sc\n",
      "133https://sc\n",
      "134https://sc\n",
      "135https://sc\n",
      "136https://sc\n",
      "137https://sc\n",
      "138https://sc\n",
      "139https://sc\n",
      "140https://sc\n",
      "141https://sc\n",
      "142https://sc\n",
      "143https://sc\n",
      "144https://sc\n",
      "145https://sc\n",
      "146https://sc\n",
      "147https://sc\n",
      "148https://sc\n",
      "149https://sc\n",
      "150https://sc\n",
      "151https://sc\n",
      "152https://sc\n",
      "153https://sc\n",
      "154https://sc\n",
      "155https://sc\n",
      "156https://sc\n"
     ]
    }
   ],
   "source": [
    "start_date = []\n",
    "img_url_list = []\n",
    "n = 0\n",
    "for div in c:\n",
    "    n = n+1\n",
    "    start_date.append(div.find_all('span',\"****\")[0].text)\n",
    "    img = div.find_all('img',class_=[\"****\"])\n",
    "    carousel = div.find_all('img',class_=[\"****\"])\n",
    "    for z in img:\n",
    "        img_url_list.append(z['src'])\n",
    "        print(str(n)+z['src'][:10])\n",
    "    if len(carousel) != 0:\n",
    "        img_url_list.append(carousel[0]['src'])\n",
    "        print('c'+str(n)+carousel[0]['src'][:15])\n",
    "    if len(z['src'])==0 and len(carousel)==0:\n",
    "        img_url_list.append('is_null')"
   ]
  },
  {
   "cell_type": "code",
   "execution_count": 124,
   "id": "7d09ba94",
   "metadata": {},
   "outputs": [
    {
     "data": {
      "text/plain": [
       "156"
      ]
     },
     "execution_count": 124,
     "metadata": {},
     "output_type": "execute_result"
    }
   ],
   "source": [
    "len(start_date)"
   ]
  },
  {
   "cell_type": "code",
   "execution_count": 125,
   "id": "7fdae376",
   "metadata": {},
   "outputs": [
    {
     "data": {
      "text/plain": [
       "156"
      ]
     },
     "execution_count": 125,
     "metadata": {},
     "output_type": "execute_result"
    }
   ],
   "source": [
    "len(img_url_list)"
   ]
  },
  {
   "cell_type": "code",
   "execution_count": 127,
   "id": "b1518f71",
   "metadata": {},
   "outputs": [],
   "source": [
    "data = {'date':start_date,\n",
    "        'img_url':img_url_list\n",
    "    }\n",
    "df_result = pd.DataFrame(data=data)"
   ]
  },
  {
   "cell_type": "code",
   "execution_count": 128,
   "id": "f32a0169",
   "metadata": {},
   "outputs": [
    {
     "data": {
      "text/html": [
       "<div>\n",
       "<style scoped>\n",
       "    .dataframe tbody tr th:only-of-type {\n",
       "        vertical-align: middle;\n",
       "    }\n",
       "\n",
       "    .dataframe tbody tr th {\n",
       "        vertical-align: top;\n",
       "    }\n",
       "\n",
       "    .dataframe thead th {\n",
       "        text-align: right;\n",
       "    }\n",
       "</style>\n",
       "<table border=\"1\" class=\"dataframe\">\n",
       "  <thead>\n",
       "    <tr style=\"text-align: right;\">\n",
       "      <th></th>\n",
       "      <th>date</th>\n",
       "      <th>img_url</th>\n",
       "    </tr>\n",
       "  </thead>\n",
       "  <tbody>\n",
       "    <tr>\n",
       "      <th>0</th>\n",
       "      <td>2023. 5. 8.에 게재 시작함</td>\n",
       "      <td>https://scontent.ficn4-1.fna.fbcdn.net/v/t39.3...</td>\n",
       "    </tr>\n",
       "    <tr>\n",
       "      <th>1</th>\n",
       "      <td>2023. 5. 8.에 게재 시작함</td>\n",
       "      <td>https://scontent.ficn4-1.fna.fbcdn.net/v/t39.3...</td>\n",
       "    </tr>\n",
       "    <tr>\n",
       "      <th>2</th>\n",
       "      <td>2023. 5. 8.에 게재 시작함</td>\n",
       "      <td>https://scontent.ficn4-1.fna.fbcdn.net/v/t39.3...</td>\n",
       "    </tr>\n",
       "    <tr>\n",
       "      <th>3</th>\n",
       "      <td>2023. 5. 8.에 게재 시작함</td>\n",
       "      <td>https://scontent.ficn4-1.fna.fbcdn.net/v/t39.3...</td>\n",
       "    </tr>\n",
       "    <tr>\n",
       "      <th>4</th>\n",
       "      <td>2023. 5. 8.에 게재 시작함</td>\n",
       "      <td>https://scontent.ficn4-1.fna.fbcdn.net/v/t39.3...</td>\n",
       "    </tr>\n",
       "    <tr>\n",
       "      <th>...</th>\n",
       "      <td>...</td>\n",
       "      <td>...</td>\n",
       "    </tr>\n",
       "    <tr>\n",
       "      <th>151</th>\n",
       "      <td>2023. 2. 26.에 게재 시작함</td>\n",
       "      <td>https://scontent.ficn4-1.fna.fbcdn.net/v/t39.3...</td>\n",
       "    </tr>\n",
       "    <tr>\n",
       "      <th>152</th>\n",
       "      <td>2023. 2. 26.에 게재 시작함</td>\n",
       "      <td>https://scontent.ficn4-1.fna.fbcdn.net/v/t39.3...</td>\n",
       "    </tr>\n",
       "    <tr>\n",
       "      <th>153</th>\n",
       "      <td>2023. 2. 26.에 게재 시작함</td>\n",
       "      <td>https://scontent.ficn4-1.fna.fbcdn.net/v/t39.3...</td>\n",
       "    </tr>\n",
       "    <tr>\n",
       "      <th>154</th>\n",
       "      <td>2023. 2. 26.에 게재 시작함</td>\n",
       "      <td>https://scontent.ficn4-1.fna.fbcdn.net/v/t39.3...</td>\n",
       "    </tr>\n",
       "    <tr>\n",
       "      <th>155</th>\n",
       "      <td>2023. 2. 26.에 게재 시작함</td>\n",
       "      <td>https://scontent.ficn4-1.fna.fbcdn.net/v/t39.3...</td>\n",
       "    </tr>\n",
       "  </tbody>\n",
       "</table>\n",
       "<p>156 rows × 2 columns</p>\n",
       "</div>"
      ],
      "text/plain": [
       "                     date                                            img_url\n",
       "0     2023. 5. 8.에 게재 시작함  https://scontent.ficn4-1.fna.fbcdn.net/v/t39.3...\n",
       "1     2023. 5. 8.에 게재 시작함  https://scontent.ficn4-1.fna.fbcdn.net/v/t39.3...\n",
       "2     2023. 5. 8.에 게재 시작함  https://scontent.ficn4-1.fna.fbcdn.net/v/t39.3...\n",
       "3     2023. 5. 8.에 게재 시작함  https://scontent.ficn4-1.fna.fbcdn.net/v/t39.3...\n",
       "4     2023. 5. 8.에 게재 시작함  https://scontent.ficn4-1.fna.fbcdn.net/v/t39.3...\n",
       "..                    ...                                                ...\n",
       "151  2023. 2. 26.에 게재 시작함  https://scontent.ficn4-1.fna.fbcdn.net/v/t39.3...\n",
       "152  2023. 2. 26.에 게재 시작함  https://scontent.ficn4-1.fna.fbcdn.net/v/t39.3...\n",
       "153  2023. 2. 26.에 게재 시작함  https://scontent.ficn4-1.fna.fbcdn.net/v/t39.3...\n",
       "154  2023. 2. 26.에 게재 시작함  https://scontent.ficn4-1.fna.fbcdn.net/v/t39.3...\n",
       "155  2023. 2. 26.에 게재 시작함  https://scontent.ficn4-1.fna.fbcdn.net/v/t39.3...\n",
       "\n",
       "[156 rows x 2 columns]"
      ]
     },
     "execution_count": 128,
     "metadata": {},
     "output_type": "execute_result"
    }
   ],
   "source": [
    "df_result"
   ]
  },
  {
   "cell_type": "code",
   "execution_count": 129,
   "id": "6d1d2470",
   "metadata": {},
   "outputs": [],
   "source": [
    "from urllib import parse\n",
    "import requests\n",
    "\n",
    "def parse_extension(url):\n",
    "    \"\"\"\n",
    "    url 에서 파일 확장자 파싱\n",
    "    e.g. https://..../image.jpeg?q=95 => jpeg\n",
    "    \"\"\"\n",
    "    filename = parse.urlparse(url).path.split('/')[-1]\n",
    "    return filename.split('.')[-1]\n",
    "\n",
    "\n",
    "def download_file(url, path):\n",
    "    \"\"\"\n",
    "    파일 다운로드\n",
    "    url 의 내용 받아서 path 에 저장 \n",
    "    \"\"\"\n",
    "    with open(path, 'wb') as f:\n",
    "        f.write(requests.get(url, stream=True).raw.read())"
   ]
  },
  {
   "cell_type": "code",
   "execution_count": null,
   "id": "46a07253",
   "metadata": {},
   "outputs": [],
   "source": []
  },
  {
   "cell_type": "code",
   "execution_count": null,
   "id": "8deb5321",
   "metadata": {},
   "outputs": [],
   "source": [
    "path = f'/Users/arob/Downloads/test.{parse_extension(image_url)}'\n",
    "print(path)\n",
    "download_file(image_url, path)"
   ]
  },
  {
   "cell_type": "code",
   "execution_count": 166,
   "id": "018cef32",
   "metadata": {},
   "outputs": [],
   "source": [
    "n = 0\n",
    "for date, image_url in zip(df_result['date'],df_result['img_url']):\n",
    "    n = n +1\n",
    "    path = f'/Users/jiwoo/Downloads/230509/%s.{parse_extension(image_url)}'%(str(n)+'_'+date)\n",
    "    download_file(image_url, path)"
   ]
  },
  {
   "cell_type": "code",
   "execution_count": null,
   "id": "98815af8",
   "metadata": {},
   "outputs": [],
   "source": []
  },
  {
   "cell_type": "code",
   "execution_count": null,
   "id": "4b2ce3e9",
   "metadata": {},
   "outputs": [],
   "source": []
  },
  {
   "cell_type": "code",
   "execution_count": null,
   "id": "ddfaf744",
   "metadata": {},
   "outputs": [],
   "source": []
  },
  {
   "cell_type": "code",
   "execution_count": null,
   "id": "7b34d331",
   "metadata": {},
   "outputs": [],
   "source": []
  },
  {
   "cell_type": "code",
   "execution_count": null,
   "id": "18394340",
   "metadata": {},
   "outputs": [],
   "source": []
  }
 ],
 "metadata": {
  "kernelspec": {
   "display_name": "Python 3 (ipykernel)",
   "language": "python",
   "name": "python3"
  },
  "language_info": {
   "codemirror_mode": {
    "name": "ipython",
    "version": 3
   },
   "file_extension": ".py",
   "mimetype": "text/x-python",
   "name": "python",
   "nbconvert_exporter": "python",
   "pygments_lexer": "ipython3",
   "version": "3.10.9"
  }
 },
 "nbformat": 4,
 "nbformat_minor": 5
}
