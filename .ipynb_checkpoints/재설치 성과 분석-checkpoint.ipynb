{
 "cells": [
  {
   "cell_type": "code",
   "execution_count": 1,
   "metadata": {},
   "outputs": [],
   "source": [
    "import pandas as pd\n",
    "import numpy as np\n",
    "from datetime import date, datetime, timedelta\n",
    "import os\n",
    "from stat import S_ISREG, ST_CTIME, ST_MODE\n",
    "\n",
    "import sqlite3\n",
    "\n",
    "con = sqlite3.connect('/path/****.db')\n",
    "cursor = con.cursor()"
   ]
  },
  {
   "cell_type": "code",
   "execution_count": 2,
   "metadata": {},
   "outputs": [],
   "source": [
    "yesterday = (date.today() - timedelta(days=1)).strftime(\"%Y-%m-%d\")\n",
    "week_start_date = (date.today() - timedelta(days=days_for_week[pd.to_datetime(date.today()).dayofweek])).strftime(\"%Y-%m-%d\")\n",
    "friday_date = (date.today() + timedelta(days=friday[pd.to_datetime(date.today()).dayofweek])).strftime(\"%Y-%m-%d\")"
   ]
  },
  {
   "cell_type": "markdown",
   "metadata": {},
   "source": [
    "# data 전처리, 신규 가입 log"
   ]
  },
  {
   "cell_type": "code",
   "execution_count": 4,
   "metadata": {},
   "outputs": [],
   "source": [
    "#### 신규 가입 유저 log\n",
    "#### 신규 가입 로그는 유저가 최초 가입할 때 기록 된다.\n",
    "\n",
    "cursor.execute('SELECT * FROM ****')\n",
    "columns = [description[0] for description in cursor.description]\n",
    "df_user = pd.DataFrame(cursor.fetchall(),columns=columns)"
   ]
  },
  {
   "cell_type": "code",
   "execution_count": 8,
   "metadata": {},
   "outputs": [],
   "source": [
    "df_user['uu**'] = np.where(\n",
    "    df_user['uu**'].isnull()\n",
    "    ,df_user['user**']\n",
    "    ,df_user['uu**']\n",
    ")\n",
    "\n",
    "df_user['****_at'] = df_user['****_at']\n",
    "df_user['****_date'] = pd.to_datetime(df_user['****_at'].astype(str).str[:10])"
   ]
  },
  {
   "cell_type": "markdown",
   "metadata": {},
   "source": [
    "# data 전처리, 인스톨 log"
   ]
  },
  {
   "cell_type": "code",
   "execution_count": null,
   "metadata": {},
   "outputs": [],
   "source": [
    "#### 인스톨 log\n",
    "#### 유저가 재설치 할 경우 새로 log가 생긴다\n",
    "\n",
    "cursor.execute('SELECT * FROM ****')\n",
    "columns = [description[0] for description in cursor.description]\n",
    "df_install = pd.DataFrame(cursor.fetchall(),columns=columns)"
   ]
  },
  {
   "cell_type": "code",
   "execution_count": 9,
   "metadata": {},
   "outputs": [],
   "source": [
    "#### date 추가\n",
    "df_install['****_date'] = pd.to_datetime(df_install['****_at'].astype(str).str[:10])\n",
    "df_install['****_date'] = pd.to_datetime(df_install['****_at'].astype(str).str[:10])\n",
    "\n",
    "#### 일별 중복 설치 제거\n",
    "#### 목적 : 데이터 처리 편의\n",
    "df_install_drop_daily = df_install.sort_values(['****_ at']).drop_duplicates(['****_id','****_date'])\n",
    "\n",
    "#### 유저 별 최초 설치 일자 분류 (생애 X, 한정된 데이터 내 최초 설치)\n",
    "df_first_install = df_install.sort_values(['****_at']).drop_duplicates(['****'])\n",
    "\n",
    "#### 최초 설치 일자 merge\n",
    "df_install_drop_merge_first = pd.merge(\n",
    "    df_install_drop_daily,\n",
    "    df_first_install[['****','****_date']],\n",
    "    'left',\n",
    "    on='****',\n",
    "    suffixes=('','_first')\n",
    ")\n",
    "\n",
    "#### 최초 설치 수 재 설치 경과 일 생성\n",
    "df_install_drop_merge_first['it-fit'] = (df_install_drop_merge_first['****_date'] - df_install_drop_merge_first['inst**_date_first']).dt.days\n",
    "\n",
    "#### user_id, install date 내림차순\n",
    "df_install_drop_merge_first = df_install_drop_merge_first.sort_values(['us**','inst**_date'])\n",
    "\n",
    "#### it-fit 한칸 내림 (down one space)\n",
    "df_install_drop_merge_first['it-fit-dos'] = np.append(np.array([0]),df_install_drop_merge_first['it-fit'].values[:-1]).tolist()"
   ]
  },
  {
   "cell_type": "code",
   "execution_count": 10,
   "metadata": {},
   "outputs": [],
   "source": [
    "#### 근접-직전 install log 일(day)차 연산\n",
    "## list\n",
    "it_fit = list(df_install_drop_merge_first['it-fit'].values)\n",
    "it_fit_dos = list(df_install_drop_merge_first['it-fit-dos'].values)\n",
    "\n",
    "## 동일 user_id 별 설치일 차이가 90일 이하 일 경우 같은 그룹화\n",
    "## user_id 가 바뀔경우 차이는 0 또는 음수 -> default\n",
    "result = []\n",
    "for x,y in zip(it_fit_dos,it_fit):\n",
    "    if y-x <=0:\n",
    "        num = 1\n",
    "        result.append(num)\n",
    "    elif y-x <=90:\n",
    "        result.append(num)\n",
    "    else:\n",
    "        num = num +1\n",
    "        result.append(num)"
   ]
  },
  {
   "cell_type": "markdown",
   "metadata": {},
   "source": [
    "# data 전처리, 첫 설치와 재설치 구분"
   ]
  },
  {
   "cell_type": "code",
   "execution_count": 11,
   "metadata": {},
   "outputs": [],
   "source": [
    "## 결과 컬럼 추가\n",
    "df_install_drop_merge_first['result'] = result"
   ]
  },
  {
   "cell_type": "code",
   "execution_count": 12,
   "metadata": {},
   "outputs": [],
   "source": [
    "#### user_id 없는 low 제거\n",
    "#### user_id, result 중복값 제거 -> 근접 설치 그룹 중 설치가 빠른 install log 남김\n",
    "\n",
    "df_install_drop_merge_first_drop_dup_install_by3 = df_install_drop_merge_first[\n",
    "    (df_install_drop_merge_first['us**'].notnull())\n",
    "].drop_duplicates(['us**','result'])\n"
   ]
  },
  {
   "cell_type": "code",
   "execution_count": 13,
   "metadata": {},
   "outputs": [],
   "source": [
    "#### 재설치 구분\n",
    "df_install_drop_merge_first_drop_dup_install_by3['reinstall'] = np.where(\n",
    "    df_install_drop_merge_first_drop_dup_install_by3['result']==1\n",
    "    ,'Firstinstall'\n",
    "    ,'Reinstall'\n",
    ")"
   ]
  },
  {
   "cell_type": "code",
   "execution_count": null,
   "metadata": {},
   "outputs": [],
   "source": []
  },
  {
   "cell_type": "code",
   "execution_count": 15,
   "metadata": {},
   "outputs": [],
   "source": [
    "#### 특정 기간의 재설치 로그 분류\n",
    "df_reinstall = df_install_drop_merge_first_drop_dup_install_by3[\n",
    "    (df_install_drop_merge_first_drop_dup_install_by3['reinstall']=='Reinstall')\n",
    "    &(df_install_drop_merge_first_drop_dup_install_by3['crea**_date']>=week_start_date)\n",
    "    &(df_install_drop_merge_first_drop_dup_install_by3['crea**_date']<=yesterday)\n",
    "]"
   ]
  },
  {
   "cell_type": "code",
   "execution_count": 16,
   "metadata": {},
   "outputs": [
    {
     "data": {
      "text/plain": [
       "(17198, 11)"
      ]
     },
     "execution_count": 16,
     "metadata": {},
     "output_type": "execute_result"
    }
   ],
   "source": [
    "df_reinstall.shape"
   ]
  },
  {
   "cell_type": "code",
   "execution_count": 17,
   "metadata": {},
   "outputs": [],
   "source": [
    "#### 재설치 로그에, 첫 가입일 merge\n",
    "\n",
    "df_reinstall = pd.merge(\n",
    "    df_reinstall\n",
    "    ,df_user[[\n",
    "        'use**'\n",
    "        ,'uu**'\n",
    "        ,'sign**'\n",
    "        ,'is_**stomer'\n",
    "    ]]\n",
    "    ,'left'\n",
    "    ,on='user_id'\n",
    "    ,suffixes=('','_y')\n",
    ")"
   ]
  },
  {
   "cell_type": "code",
   "execution_count": 18,
   "metadata": {},
   "outputs": [],
   "source": [
    "#### 신규 가입 로그와 concat 하기 위한 컬럼 표준화\n",
    "df_reinstall_old = df_reinstall[[\n",
    "    'us**'\n",
    "    ,'uu**'\n",
    "    ,'dev**_type'\n",
    "    ,'inst**_at'\n",
    "    ,'inst**_date'\n",
    "    ,'crea**_at'\n",
    "    ,'crea**_date'\n",
    "    ,'reinstall'\n",
    "    ,'is_**stomer'\n",
    "]]"
   ]
  },
  {
   "cell_type": "code",
   "execution_count": 19,
   "metadata": {},
   "outputs": [],
   "source": [
    "#### 인스톨 로그와 동일 기간 신규 가입 로그 분류\n",
    "df_user_new = df_user[\n",
    "    (df_user['crea**_date']>=week_start_date)\n",
    "    &(df_user['crea**_date']<=yesterday)\n",
    "].sort_values('crea**_date')[[\n",
    "    'us**'\n",
    "    ,'uu**'\n",
    "    ,'dev**_type'\n",
    "    ,'cre**_at'\n",
    "    ,'cre**_date'\n",
    "    ,'is_**stomer'\n",
    "]]"
   ]
  },
  {
   "cell_type": "markdown",
   "metadata": {},
   "source": [
    "# data 전처리, 같은 기간 재설치 로그 + 신규 가입 유저 로그"
   ]
  },
  {
   "cell_type": "code",
   "execution_count": 20,
   "metadata": {},
   "outputs": [],
   "source": [
    "#### 병합된 데이터에는 재설치 유저와 신규 가입 유저는 중복되지 않음\n",
    "#### 재설치 조건 정의 : 직전 설치 후 90일이 지나야 인정\n",
    "#### 병합된 데이터에서 신규 가입 유저는 최근 4주 내 가입한 유저 이기 때문에 중복되지 않음\n",
    "#### 신규 가입 유저, 분류에 사용된 week_start_date는 최근 4주 전 일자임\n",
    "\n",
    "#### 병합\n",
    "df_user_concat = pd.concat([\n",
    "    df_reinstall_old\n",
    "    ,df_user_new\n",
    "])"
   ]
  },
  {
   "cell_type": "code",
   "execution_count": 22,
   "metadata": {},
   "outputs": [],
   "source": [
    "df_user_concat = df_user_concat[\n",
    "    (df_user_concat['is_**stomer']==True)\n",
    "]"
   ]
  },
  {
   "cell_type": "code",
   "execution_count": 23,
   "metadata": {},
   "outputs": [],
   "source": [
    "df_user_concat['reinstall'] = df_user_concat['reinstall'].fillna('FirstInstall')"
   ]
  },
  {
   "cell_type": "code",
   "execution_count": 24,
   "metadata": {},
   "outputs": [
    {
     "data": {
      "text/plain": [
       "(179755, 9)"
      ]
     },
     "execution_count": 24,
     "metadata": {},
     "output_type": "execute_result"
    }
   ],
   "source": [
    "df_user_concat.sort_values('cre**_at').shape"
   ]
  },
  {
   "cell_type": "code",
   "execution_count": 25,
   "metadata": {},
   "outputs": [],
   "source": [
    "#### ????\n",
    "#### 90일 이후 설치해야 재설치를 인정한다면\n",
    "#### df_user_new는 최근 4주 설치이기 때문에 user_id 중복값 제거를 해도 상관없다?\n",
    "\n",
    "df_user_concat = df_user_concat.sort_values('cre**_at').drop_duplicates('us**')"
   ]
  },
  {
   "cell_type": "code",
   "execution_count": 26,
   "metadata": {},
   "outputs": [],
   "source": [
    "df_user_concat['week'] = (((pd.to_datetime(friday_date) - pd.to_datetime(df_user_concat['cre**_date'])).astype(str).str[:-24].astype(int)/7)+0.9999).astype(int)"
   ]
  },
  {
   "cell_type": "markdown",
   "metadata": {},
   "source": [
    "# 신규 가입 log에는 기록되지 않는, 재설치 유저 약 10%"
   ]
  },
  {
   "cell_type": "code",
   "execution_count": 27,
   "metadata": {},
   "outputs": [
    {
     "data": {
      "text/html": [
       "<div>\n",
       "<style scoped>\n",
       "    .dataframe tbody tr th:only-of-type {\n",
       "        vertical-align: middle;\n",
       "    }\n",
       "\n",
       "    .dataframe tbody tr th {\n",
       "        vertical-align: top;\n",
       "    }\n",
       "\n",
       "    .dataframe thead th {\n",
       "        text-align: right;\n",
       "    }\n",
       "</style>\n",
       "<table border=\"1\" class=\"dataframe\">\n",
       "  <thead>\n",
       "    <tr style=\"text-align: right;\">\n",
       "      <th>reinstall</th>\n",
       "      <th>FirstInstall</th>\n",
       "      <th>Reinstall</th>\n",
       "    </tr>\n",
       "    <tr>\n",
       "      <th>week</th>\n",
       "      <th></th>\n",
       "      <th></th>\n",
       "    </tr>\n",
       "  </thead>\n",
       "  <tbody>\n",
       "    <tr>\n",
       "      <th>1</th>\n",
       "      <td>49493</td>\n",
       "      <td>4809</td>\n",
       "    </tr>\n",
       "    <tr>\n",
       "      <th>2</th>\n",
       "      <td>39735</td>\n",
       "      <td>4119</td>\n",
       "    </tr>\n",
       "    <tr>\n",
       "      <th>3</th>\n",
       "      <td>37061</td>\n",
       "      <td>4080</td>\n",
       "    </tr>\n",
       "    <tr>\n",
       "      <th>4</th>\n",
       "      <td>36358</td>\n",
       "      <td>4078</td>\n",
       "    </tr>\n",
       "  </tbody>\n",
       "</table>\n",
       "</div>"
      ],
      "text/plain": [
       "reinstall  FirstInstall  Reinstall\n",
       "week                              \n",
       "1                 49493       4809\n",
       "2                 39735       4119\n",
       "3                 37061       4080\n",
       "4                 36358       4078"
      ]
     },
     "execution_count": 27,
     "metadata": {},
     "output_type": "execute_result"
    }
   ],
   "source": [
    "df_user_concat.pivot_table(\n",
    "    index='week'\n",
    "    ,columns='reinstall'\n",
    "    ,values='us**'\n",
    "    ,aggfunc='count'\n",
    ")"
   ]
  }
 ],
 "metadata": {
  "kernelspec": {
   "display_name": "Python 3 (ipykernel)",
   "language": "python",
   "name": "python3"
  },
  "language_info": {
   "codemirror_mode": {
    "name": "ipython",
    "version": 3
   },
   "file_extension": ".py",
   "mimetype": "text/x-python",
   "name": "python",
   "nbconvert_exporter": "python",
   "pygments_lexer": "ipython3",
   "version": "3.10.9"
  }
 },
 "nbformat": 4,
 "nbformat_minor": 4
}
