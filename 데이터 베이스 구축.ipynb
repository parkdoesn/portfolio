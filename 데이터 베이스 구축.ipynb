{
 "cells": [
  {
   "cell_type": "code",
   "execution_count": null,
   "id": "1be257f8",
   "metadata": {},
   "outputs": [],
   "source": [
    "import pandas as pd\n",
    "import numpy as np\n",
    "\n",
    "from time import sleep\n",
    "from numpy import inf\n",
    "from datetime import date,datetime, timedelta\n",
    "\n",
    "import os\n",
    "from stat import S_ISREG, ST_CTIME, ST_MODE\n",
    "\n",
    "import warnings\n",
    "warnings.filterwarnings(action='ignore')\n",
    "pd.options.display.float_format = '{:.0f}'.format"
   ]
  },
  {
   "cell_type": "markdown",
   "id": "818178a1",
   "metadata": {},
   "source": [
    "# google sheet에 appsflyer pull api 이력 기록"
   ]
  },
  {
   "cell_type": "code",
   "execution_count": null,
   "id": "66e3edd5",
   "metadata": {},
   "outputs": [],
   "source": [
    "#### 최근 Appsflyer raw data 수집 기록 확인\n",
    "\n",
    "import gspread\n",
    "import gspread_dataframe as gd\n",
    "from oauth2client.service_account import ServiceAccountCredentials\n",
    "\n",
    "scope = [\"https://spreadsheets.google.com/feeds\", 'https://www.googleapis.com/auth/spreadsheets',\n",
    "         \"https://www.googleapis.com/auth/drive.file\", \"https://www.googleapis.com/auth/drive\"]\n",
    "credentials = ServiceAccountCredentials.from_json_keyfile_name('/path/credentials.json', scope)\n",
    "gc = gspread.authorize(credentials)\n",
    "\n",
    "sh = gc.open('googke_sheet_name')\n",
    "worksheet = sh.worksheet('sheet_name')\n",
    "\n",
    "#### 마지막 수집 일 확인\n",
    "\n",
    "appsflyer_start_date = (pd.to_datetime(worksheet.get_all_values()[-1][-1]) + timedelta(days=1)).strftime(\"%Y-%m-%d\")\n",
    "print(appsflyer_start_date)\n",
    "\n",
    "#### 오늘 수집 할 기간 기록\n",
    "\n",
    "worksheet.update(\"A\"+str(len(worksheet.get_all_values()) + 1)+':B'+str(len(worksheet.get_all_values()) + 1),[[appsflyer_start_date,(date.today() - timedelta(days=1)).strftime(\"%Y-%m-%d\")]])\n",
    "\n",
    "#### 수집 할 기간 정의\n",
    "\n",
    "from_date = appsflyer_start_date\n",
    "to_date = (date.today() - timedelta(days=1)).strftime(\"%Y-%m-%d\")\n",
    "\n",
    "print(from_date)\n",
    "print(to_date)"
   ]
  },
  {
   "cell_type": "markdown",
   "id": "9621430d",
   "metadata": {},
   "source": [
    "# appsflyer raw data pull"
   ]
  },
  {
   "cell_type": "code",
   "execution_count": null,
   "id": "559ba292",
   "metadata": {},
   "outputs": [],
   "source": [
    "#### appsflyer Pull API\n",
    "\n",
    "api_token = 'api_token'\n",
    "\n",
    "app_id_list = [\n",
    "    '안드로이드_앱_id',\n",
    "    'iOS_앱_id'\n",
    "]\n",
    "\n",
    "#### 수집 할 데이터 유형 (raw data)\n",
    "\n",
    "report_type_list = [\n",
    "    'installs_report'\n",
    "    ,'installs_report'\n",
    "    ,'organic_installs_report'\n",
    "]\n",
    "\n",
    "#### 수집 할 데이터 컬럼 설정\n",
    "\n",
    "requests_url_list =[ \n",
    "    'https://hq.appsflyer.com/export/{}/{}/v5?api_token={}&from={}&to={}&timezone=Asia%2fSeoul&additional_fields=device_model,keyword_id,store_reinstall,deeplink_url,oaid,install_app_store,contributor1_match_type,contributor2_match_type,contributor3_match_type,match_type,device_category,gp_referrer,gp_click_time,gp_install_begin,amazon_aid,keyword_match_type,att,conversion_type,campaign_type,is_lat&maximum_rows=1000000'\n",
    "    ,'https://hq.appsflyer.com/export/{}/{}/v5?api_token={}&from={}&to={}&timezone=Asia%2fSeoul&additional_fields=device_model,keyword_id,store_reinstall,deeplink_url,oaid,install_app_store,contributor1_match_type,contributor2_match_type,contributor3_match_type,match_type,device_category,gp_referrer,gp_click_time,gp_install_begin,amazon_aid,keyword_match_type,att,conversion_type,campaign_type,is_lat&reattr=true&maximum_rows=1000000'\n",
    "    ,'https://hq.appsflyer.com/export/{}/{}/v5?api_token={}&from={}&to={}&timezone=Asia%2fSeoul&additional_fields=device_model,keyword_id,store_reinstall,deeplink_url,oaid,install_app_store,gp_referrer,gp_click_time,gp_install_begin,amazon_aid,keyword_match_type,att,conversion_type,campaign_type,is_lat&maximum_rows=1000000'\n",
    "]\n",
    "\n",
    "af_norganic_installs = {}\n",
    "af_retargeting_conv = {}\n",
    "af_organic_installs = {}\n",
    "\n",
    "af_dic_list = [\n",
    "    af_norganic_installs\n",
    "    ,af_retargeting_conv\n",
    "    ,af_organic_installs\n",
    "]"
   ]
  },
  {
   "cell_type": "code",
   "execution_count": null,
   "id": "ae4edee5",
   "metadata": {},
   "outputs": [],
   "source": [
    "#### Appsflyer raw data 수집\n",
    "\n",
    "import requests\n",
    "from io import StringIO\n",
    "\n",
    "for app_id in app_id_list:\n",
    "    for report_type, af_dic, request_url in zip(report_type_list, af_dic_list, requests_url_list):\n",
    "        res = requests.request(\n",
    "            'GET'\n",
    "            ,request_url.format(app_id, report_type, api_token, from_date, to_date)\n",
    "        )\n",
    "        af_dic[app_id] = pd.read_csv(StringIO(res.text))"
   ]
  },
  {
   "cell_type": "code",
   "execution_count": null,
   "id": "f275a172",
   "metadata": {},
   "outputs": [],
   "source": [
    "#### 같은 유형 데이터 concat\n",
    "\n",
    "df_organic_installs = pd.concat([\n",
    "    af_organic_installs['안드로이드_앱_id']\n",
    "    ,af_organic_installs['iOS_앱_id']\n",
    "])\n",
    "\n",
    "df_norganic_installs = pd.concat([\n",
    "    af_norganic_installs['안드로이드_앱_id']\n",
    "    ,af_norganic_installs['iOS_앱_id']\n",
    "])\n",
    "\n",
    "df_retargeting_conv = pd.concat([\n",
    "    af_retargeting_conv['안드로이드_앱_id']\n",
    "    ,af_retargeting_conv['iOS_앱_id']\n",
    "])"
   ]
  },
  {
   "cell_type": "code",
   "execution_count": null,
   "id": "b0c4dcee",
   "metadata": {},
   "outputs": [],
   "source": [
    "#### 수집 데이터 로컬 db에 저장\n",
    "\n",
    "import sqlite3\n",
    "con = sqlite3.connect('/path/****.db')\n",
    "cursor = con.cursor()\n",
    "\n",
    "df_organic_installs.to_sql('af_organic_installs', con, if_exists='append', index=False)\n",
    "df_norganic_installs.to_sql('af_norganic_installs',con,if_exists='append')\n",
    "df_retargeting_conv.to_sql('af_norganic_installs', con, if_exists='append', index=False)"
   ]
  },
  {
   "cell_type": "code",
   "execution_count": null,
   "id": "cb0c7ad3",
   "metadata": {},
   "outputs": [],
   "source": [
    "#### Appsflyer raw data Pull 완료"
   ]
  },
  {
   "cell_type": "markdown",
   "id": "e55cf97a",
   "metadata": {},
   "source": [
    "# 데이터 수동 수집"
   ]
  },
  {
   "cell_type": "code",
   "execution_count": null,
   "id": "278c0bde",
   "metadata": {},
   "outputs": [],
   "source": [
    "#### server db data 데일리 수동으로 내려 받고, 로컬 db에 저장\n",
    "\n",
    "#### 설치 로그 수집\n",
    "df_install = pd.concat([\n",
    "    pd.read_csv('/path/0_설치로그 테이블.csv')\n",
    "    ,pd.read_csv('/path/1_설치로그 테이블.csv')\n",
    "])\n",
    "\n",
    "#### 가입 로그 수집\n",
    "df_user = pd.read_csv('/path/sign_up 테이블.csv')\n",
    "\n",
    "#### 인앱 이벤트 로그 수집 1\n",
    "df_event = pd.concat([\n",
    "    pd.read_csv('/path/0_이벤트 테이블.csv')\n",
    "    ,pd.read_csv('/path/1_이벤트 테이블.csv')\n",
    "    ,pd.read_csv('/path/2_이벤트 테이블.csv')\n",
    "])\n",
    "\n",
    "#### 인앱 이벤트 로그 수집 2\n",
    "df_method = pd.read_csv('/path/method 로그.csv')"
   ]
  },
  {
   "cell_type": "code",
   "execution_count": null,
   "id": "4dac982a",
   "metadata": {},
   "outputs": [],
   "source": [
    "df_install.loc[:,'user_id':].to_sql('insatll_log', con, if_exists='append', index=False)\n",
    "df_user.loc[:,'user_id':].to_sql('user_log', con, if_exists='append', index=False)\n",
    "df_event.loc[:,'car_id':].to_sql('event_log', con, if_exists='append', index=False)\n",
    "df_method.loc[:,'type':].to_sql('method_log', con, if_exists='append', index=False)"
   ]
  },
  {
   "cell_type": "markdown",
   "id": "747b2938",
   "metadata": {},
   "source": [
    "# appsflyer 집약 데이터 리포트 수집"
   ]
  },
  {
   "cell_type": "code",
   "execution_count": null,
   "id": "5af68c5c",
   "metadata": {},
   "outputs": [],
   "source": [
    "#### Appsflyer Cohort report 수동 수집\n",
    "\n",
    "df_cohort = pd.read_csv('/path/cohort_on day_report_****.csv')\n",
    "\n",
    "#### 코호트 데이터 가변적\n",
    "#### 덮어씌우기 위해 다운로드 데이터 컬럼 추가\n",
    "df_cohort['Downloads_date'] = date.today().strftime(\"%Y-%m-%d\")\n",
    "\n",
    "#### 컬럼 명 수정 (깨짐)\n",
    "df_cohort_columns_list = []\n",
    "\n",
    "for col in list(df_cohort.columns):\n",
    "    if col.find('- partial') >= 0:\n",
    "        df_cohort_columns_list.append(col[:-10])\n",
    "    else:\n",
    "        df_cohort_columns_list.append(col)\n",
    "        \n",
    "df_cohort.columns = df_cohort_columns_list"
   ]
  },
  {
   "cell_type": "code",
   "execution_count": null,
   "id": "cffe2b49",
   "metadata": {},
   "outputs": [],
   "source": [
    "df_cohort.to_sql('fb_cohort_report', con, if_exists='append', index=False)"
   ]
  },
  {
   "cell_type": "markdown",
   "id": "6dcb1dfe",
   "metadata": {},
   "source": [
    "# 광고 매체 리포트 수집 script 별도"
   ]
  }
 ],
 "metadata": {
  "kernelspec": {
   "display_name": "Python 3 (ipykernel)",
   "language": "python",
   "name": "python3"
  },
  "language_info": {
   "codemirror_mode": {
    "name": "ipython",
    "version": 3
   },
   "file_extension": ".py",
   "mimetype": "text/x-python",
   "name": "python",
   "nbconvert_exporter": "python",
   "pygments_lexer": "ipython3",
   "version": "3.10.9"
  }
 },
 "nbformat": 4,
 "nbformat_minor": 5
}
